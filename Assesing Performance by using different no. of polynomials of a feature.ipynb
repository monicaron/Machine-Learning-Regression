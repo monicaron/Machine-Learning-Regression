{
 "cells": [
  {
   "cell_type": "code",
   "execution_count": 1,
   "metadata": {},
   "outputs": [],
   "source": [
    "def poly_df(array,degree):\n",
    "    features=array[0]\n",
    "    degree>=1\n",
    "    for i in range(2,degree+1):\n",
    "        name='power_'+str(i)\n",
    "        array[name]=(features)**i\n",
    "    return array"
   ]
  },
  {
   "cell_type": "code",
   "execution_count": 2,
   "metadata": {},
   "outputs": [],
   "source": [
    "import pandas as pd\n",
    "import numpy as np"
   ]
  },
  {
   "cell_type": "code",
   "execution_count": 3,
   "metadata": {},
   "outputs": [],
   "source": [
    "w=pd.DataFrame([[1],[2]])"
   ]
  },
  {
   "cell_type": "code",
   "execution_count": 4,
   "metadata": {},
   "outputs": [
    {
     "data": {
      "text/html": [
       "<div>\n",
       "<style scoped>\n",
       "    .dataframe tbody tr th:only-of-type {\n",
       "        vertical-align: middle;\n",
       "    }\n",
       "\n",
       "    .dataframe tbody tr th {\n",
       "        vertical-align: top;\n",
       "    }\n",
       "\n",
       "    .dataframe thead th {\n",
       "        text-align: right;\n",
       "    }\n",
       "</style>\n",
       "<table border=\"1\" class=\"dataframe\">\n",
       "  <thead>\n",
       "    <tr style=\"text-align: right;\">\n",
       "      <th></th>\n",
       "      <th>0</th>\n",
       "    </tr>\n",
       "  </thead>\n",
       "  <tbody>\n",
       "    <tr>\n",
       "      <th>0</th>\n",
       "      <td>1</td>\n",
       "    </tr>\n",
       "    <tr>\n",
       "      <th>1</th>\n",
       "      <td>2</td>\n",
       "    </tr>\n",
       "  </tbody>\n",
       "</table>\n",
       "</div>"
      ],
      "text/plain": [
       "   0\n",
       "0  1\n",
       "1  2"
      ]
     },
     "execution_count": 4,
     "metadata": {},
     "output_type": "execute_result"
    }
   ],
   "source": [
    "w"
   ]
  },
  {
   "cell_type": "code",
   "execution_count": 5,
   "metadata": {},
   "outputs": [
    {
     "data": {
      "text/html": [
       "<div>\n",
       "<style scoped>\n",
       "    .dataframe tbody tr th:only-of-type {\n",
       "        vertical-align: middle;\n",
       "    }\n",
       "\n",
       "    .dataframe tbody tr th {\n",
       "        vertical-align: top;\n",
       "    }\n",
       "\n",
       "    .dataframe thead th {\n",
       "        text-align: right;\n",
       "    }\n",
       "</style>\n",
       "<table border=\"1\" class=\"dataframe\">\n",
       "  <thead>\n",
       "    <tr style=\"text-align: right;\">\n",
       "      <th></th>\n",
       "      <th>0</th>\n",
       "      <th>power_2</th>\n",
       "      <th>power_3</th>\n",
       "      <th>power_4</th>\n",
       "      <th>power_5</th>\n",
       "    </tr>\n",
       "  </thead>\n",
       "  <tbody>\n",
       "    <tr>\n",
       "      <th>0</th>\n",
       "      <td>1</td>\n",
       "      <td>1</td>\n",
       "      <td>1</td>\n",
       "      <td>1</td>\n",
       "      <td>1</td>\n",
       "    </tr>\n",
       "    <tr>\n",
       "      <th>1</th>\n",
       "      <td>2</td>\n",
       "      <td>4</td>\n",
       "      <td>8</td>\n",
       "      <td>16</td>\n",
       "      <td>32</td>\n",
       "    </tr>\n",
       "  </tbody>\n",
       "</table>\n",
       "</div>"
      ],
      "text/plain": [
       "   0  power_2  power_3  power_4  power_5\n",
       "0  1        1        1        1        1\n",
       "1  2        4        8       16       32"
      ]
     },
     "execution_count": 5,
     "metadata": {},
     "output_type": "execute_result"
    }
   ],
   "source": [
    "poly_df(w,5)"
   ]
  },
  {
   "cell_type": "code",
   "execution_count": 6,
   "metadata": {},
   "outputs": [],
   "source": [
    "def polynomial_dataframe(feature, degree): # feature is pandas.Series type\n",
    "    # assume that degree >= 1\n",
    "    degree>=1\n",
    "    # initialize the dataframe:\n",
    "    poly_dataframe = pd.DataFrame()\n",
    "    # and set poly_dataframe['power_1'] equal to the passed feature\n",
    "    ...\n",
    "    poly_dataframe['power_1']=feature\n",
    "    # first check if degree > 1\n",
    "    if degree > 1:\n",
    "        # then loop over the remaining degrees:\n",
    "        for power in range(2, degree+1):\n",
    "            # first we'll give the column a name:\n",
    "            name = 'power_' + str(power)\n",
    "            # assign poly_dataframe[name] to be feature^power; use apply(*)\n",
    "            ...\n",
    "            poly_dataframe[name]=feature**power\n",
    "    return poly_dataframe"
   ]
  },
  {
   "cell_type": "code",
   "execution_count": 7,
   "metadata": {},
   "outputs": [
    {
     "data": {
      "text/html": [
       "<div>\n",
       "<style scoped>\n",
       "    .dataframe tbody tr th:only-of-type {\n",
       "        vertical-align: middle;\n",
       "    }\n",
       "\n",
       "    .dataframe tbody tr th {\n",
       "        vertical-align: top;\n",
       "    }\n",
       "\n",
       "    .dataframe thead th {\n",
       "        text-align: right;\n",
       "    }\n",
       "</style>\n",
       "<table border=\"1\" class=\"dataframe\">\n",
       "  <thead>\n",
       "    <tr style=\"text-align: right;\">\n",
       "      <th></th>\n",
       "      <th>power_1</th>\n",
       "      <th>power_2</th>\n",
       "      <th>power_3</th>\n",
       "      <th>power_4</th>\n",
       "      <th>power_5</th>\n",
       "    </tr>\n",
       "  </thead>\n",
       "  <tbody>\n",
       "    <tr>\n",
       "      <th>0</th>\n",
       "      <td>1</td>\n",
       "      <td>1</td>\n",
       "      <td>1</td>\n",
       "      <td>1</td>\n",
       "      <td>1</td>\n",
       "    </tr>\n",
       "    <tr>\n",
       "      <th>1</th>\n",
       "      <td>2</td>\n",
       "      <td>4</td>\n",
       "      <td>8</td>\n",
       "      <td>16</td>\n",
       "      <td>32</td>\n",
       "    </tr>\n",
       "  </tbody>\n",
       "</table>\n",
       "</div>"
      ],
      "text/plain": [
       "   power_1  power_2  power_3  power_4  power_5\n",
       "0        1        1        1        1        1\n",
       "1        2        4        8       16       32"
      ]
     },
     "execution_count": 7,
     "metadata": {},
     "output_type": "execute_result"
    }
   ],
   "source": [
    "f=pd.Series([1,2])\n",
    "\n",
    "polynomial_dataframe(f,5)"
   ]
  },
  {
   "cell_type": "code",
   "execution_count": 8,
   "metadata": {},
   "outputs": [],
   "source": [
    "dtype_dict = {'bathrooms':float, 'waterfront':int, 'sqft_above':int, 'sqft_living15':float, 'grade':int, 'yr_renovated':int, 'price':float, 'bedrooms':float, 'zipcode':str, 'long':float, 'sqft_lot15':float, 'sqft_living':float, 'floors':str, 'condition':int, 'lat':float, 'date':str, \n",
    "              'sqft_basement':int, 'yr_built':int, 'id':str, 'sqft_lot':int, 'view':int}\n",
    "sales = pd.read_csv('kc_house_data.csv',dtype=dtype_dict)\n",
    "sales = sales.sort_values(['sqft_living','price'])"
   ]
  },
  {
   "cell_type": "code",
   "execution_count": 9,
   "metadata": {},
   "outputs": [],
   "source": [
    "feature=sales['sqft_living']\n",
    "poly_1data=polynomial_dataframe(feature,1)\n"
   ]
  },
  {
   "cell_type": "code",
   "execution_count": null,
   "metadata": {},
   "outputs": [],
   "source": []
  },
  {
   "cell_type": "code",
   "execution_count": null,
   "metadata": {},
   "outputs": [],
   "source": []
  },
  {
   "cell_type": "code",
   "execution_count": 10,
   "metadata": {},
   "outputs": [],
   "source": [
    "poly_1data['price']=sales[['price']]"
   ]
  },
  {
   "cell_type": "code",
   "execution_count": 11,
   "metadata": {},
   "outputs": [],
   "source": [
    "\n",
    "poly_1data=pd.DataFrame(poly_1data)\n"
   ]
  },
  {
   "cell_type": "code",
   "execution_count": 12,
   "metadata": {},
   "outputs": [],
   "source": [
    "poly_1data=poly_1data.reset_index(drop=True)"
   ]
  },
  {
   "cell_type": "code",
   "execution_count": 13,
   "metadata": {},
   "outputs": [],
   "source": [
    "from sklearn.linear_model import LinearRegression"
   ]
  },
  {
   "cell_type": "code",
   "execution_count": 14,
   "metadata": {},
   "outputs": [],
   "source": [
    "lr=LinearRegression()"
   ]
  },
  {
   "cell_type": "code",
   "execution_count": 15,
   "metadata": {},
   "outputs": [],
   "source": [
    "x=poly_1data['power_1']\n",
    "x=np.array(x).reshape(-1,1)\n",
    "y=poly_1data['price']\n"
   ]
  },
  {
   "cell_type": "code",
   "execution_count": 16,
   "metadata": {},
   "outputs": [],
   "source": [
    "poly_1model=lr.fit(x,y)"
   ]
  },
  {
   "cell_type": "code",
   "execution_count": 17,
   "metadata": {},
   "outputs": [
    {
     "data": {
      "text/plain": [
       "-43580.74309447338"
      ]
     },
     "execution_count": 17,
     "metadata": {},
     "output_type": "execute_result"
    }
   ],
   "source": [
    "poly_1model.intercept_"
   ]
  },
  {
   "cell_type": "code",
   "execution_count": 18,
   "metadata": {},
   "outputs": [
    {
     "data": {
      "text/plain": [
       "array([280.6235679])"
      ]
     },
     "execution_count": 18,
     "metadata": {},
     "output_type": "execute_result"
    }
   ],
   "source": [
    "poly_1model.coef_"
   ]
  },
  {
   "cell_type": "code",
   "execution_count": 19,
   "metadata": {},
   "outputs": [
    {
     "data": {
      "text/plain": [
       "[<matplotlib.lines.Line2D at 0x1209e271f28>,\n",
       " <matplotlib.lines.Line2D at 0x1209e27f160>]"
      ]
     },
     "execution_count": 19,
     "metadata": {},
     "output_type": "execute_result"
    },
    {
     "data": {
      "image/png": "[encoded data removed]",
      "text/plain": [
       "<Figure size 432x288 with 1 Axes>"
      ]
     },
     "metadata": {
      "needs_background": "light"
     },
     "output_type": "display_data"
    }
   ],
   "source": [
    "import matplotlib.pyplot as plt\n",
    "%matplotlib inline\n",
    "plt.plot(x,y,'.',\n",
    "x, poly_1model.predict(x),'-')"
   ]
  },
  {
   "cell_type": "code",
   "execution_count": 20,
   "metadata": {},
   "outputs": [],
   "source": [
    "feature1=sales['sqft_living']\n",
    "poly_2data=polynomial_dataframe(feature1,2)\n",
    "poly_2data['price']=sales['price']\n"
   ]
  },
  {
   "cell_type": "code",
   "execution_count": 21,
   "metadata": {},
   "outputs": [],
   "source": [
    "poly_2data=pd.DataFrame(poly_2data)"
   ]
  },
  {
   "cell_type": "code",
   "execution_count": 22,
   "metadata": {},
   "outputs": [],
   "source": [
    "poly_2data=poly_2data.reset_index(drop=True)"
   ]
  },
  {
   "cell_type": "code",
   "execution_count": 23,
   "metadata": {},
   "outputs": [
    {
     "data": {
      "text/html": [
       "<div>\n",
       "<style scoped>\n",
       "    .dataframe tbody tr th:only-of-type {\n",
       "        vertical-align: middle;\n",
       "    }\n",
       "\n",
       "    .dataframe tbody tr th {\n",
       "        vertical-align: top;\n",
       "    }\n",
       "\n",
       "    .dataframe thead th {\n",
       "        text-align: right;\n",
       "    }\n",
       "</style>\n",
       "<table border=\"1\" class=\"dataframe\">\n",
       "  <thead>\n",
       "    <tr style=\"text-align: right;\">\n",
       "      <th></th>\n",
       "      <th>power_1</th>\n",
       "      <th>power_2</th>\n",
       "      <th>price</th>\n",
       "    </tr>\n",
       "  </thead>\n",
       "  <tbody>\n",
       "    <tr>\n",
       "      <th>count</th>\n",
       "      <td>21613.000000</td>\n",
       "      <td>2.161300e+04</td>\n",
       "      <td>2.161300e+04</td>\n",
       "    </tr>\n",
       "    <tr>\n",
       "      <th>mean</th>\n",
       "      <td>2079.899736</td>\n",
       "      <td>5.169478e+06</td>\n",
       "      <td>5.400881e+05</td>\n",
       "    </tr>\n",
       "    <tr>\n",
       "      <th>std</th>\n",
       "      <td>918.440897</td>\n",
       "      <td>5.406754e+06</td>\n",
       "      <td>3.671272e+05</td>\n",
       "    </tr>\n",
       "    <tr>\n",
       "      <th>min</th>\n",
       "      <td>290.000000</td>\n",
       "      <td>8.410000e+04</td>\n",
       "      <td>7.500000e+04</td>\n",
       "    </tr>\n",
       "    <tr>\n",
       "      <th>25%</th>\n",
       "      <td>1427.000000</td>\n",
       "      <td>2.036329e+06</td>\n",
       "      <td>3.219500e+05</td>\n",
       "    </tr>\n",
       "    <tr>\n",
       "      <th>50%</th>\n",
       "      <td>1910.000000</td>\n",
       "      <td>3.648100e+06</td>\n",
       "      <td>4.500000e+05</td>\n",
       "    </tr>\n",
       "    <tr>\n",
       "      <th>75%</th>\n",
       "      <td>2550.000000</td>\n",
       "      <td>6.502500e+06</td>\n",
       "      <td>6.450000e+05</td>\n",
       "    </tr>\n",
       "    <tr>\n",
       "      <th>max</th>\n",
       "      <td>13540.000000</td>\n",
       "      <td>1.833316e+08</td>\n",
       "      <td>7.700000e+06</td>\n",
       "    </tr>\n",
       "  </tbody>\n",
       "</table>\n",
       "</div>"
      ],
      "text/plain": [
       "            power_1       power_2         price\n",
       "count  21613.000000  2.161300e+04  2.161300e+04\n",
       "mean    2079.899736  5.169478e+06  5.400881e+05\n",
       "std      918.440897  5.406754e+06  3.671272e+05\n",
       "min      290.000000  8.410000e+04  7.500000e+04\n",
       "25%     1427.000000  2.036329e+06  3.219500e+05\n",
       "50%     1910.000000  3.648100e+06  4.500000e+05\n",
       "75%     2550.000000  6.502500e+06  6.450000e+05\n",
       "max    13540.000000  1.833316e+08  7.700000e+06"
      ]
     },
     "execution_count": 23,
     "metadata": {},
     "output_type": "execute_result"
    }
   ],
   "source": [
    "poly_2data.describe()"
   ]
  },
  {
   "cell_type": "code",
   "execution_count": 24,
   "metadata": {},
   "outputs": [],
   "source": [
    "x1=poly_2data.drop('price',axis=1)"
   ]
  },
  {
   "cell_type": "code",
   "execution_count": 25,
   "metadata": {},
   "outputs": [
    {
     "name": "stdout",
     "output_type": "stream",
     "text": [
      "<class 'pandas.core.frame.DataFrame'>\n",
      "RangeIndex: 21613 entries, 0 to 21612\n",
      "Data columns (total 2 columns):\n",
      "power_1    21613 non-null float64\n",
      "power_2    21613 non-null float64\n",
      "dtypes: float64(2)\n",
      "memory usage: 337.8 KB\n"
     ]
    }
   ],
   "source": [
    "x1.info()"
   ]
  },
  {
   "cell_type": "code",
   "execution_count": 26,
   "metadata": {},
   "outputs": [],
   "source": [
    "y1=poly_2data['price']"
   ]
  },
  {
   "cell_type": "code",
   "execution_count": 27,
   "metadata": {},
   "outputs": [
    {
     "data": {
      "text/plain": [
       "21613"
      ]
     },
     "execution_count": 27,
     "metadata": {},
     "output_type": "execute_result"
    }
   ],
   "source": [
    "y1.count()"
   ]
  },
  {
   "cell_type": "code",
   "execution_count": 28,
   "metadata": {},
   "outputs": [],
   "source": [
    "poly_2model=lr.fit(x1,y1)"
   ]
  },
  {
   "cell_type": "code",
   "execution_count": 29,
   "metadata": {},
   "outputs": [
    {
     "data": {
      "text/plain": [
       "199222.279305486"
      ]
     },
     "execution_count": 29,
     "metadata": {},
     "output_type": "execute_result"
    }
   ],
   "source": [
    "poly_2model.intercept_"
   ]
  },
  {
   "cell_type": "code",
   "execution_count": 30,
   "metadata": {},
   "outputs": [
    {
     "data": {
      "text/plain": [
       "array([6.79940947e+01, 3.85812609e-02])"
      ]
     },
     "execution_count": 30,
     "metadata": {},
     "output_type": "execute_result"
    }
   ],
   "source": [
    "poly_2model.coef_"
   ]
  },
  {
   "cell_type": "code",
   "execution_count": 31,
   "metadata": {},
   "outputs": [
    {
     "data": {
      "text/plain": [
       "[<matplotlib.lines.Line2D at 0x1209e35beb8>,\n",
       " <matplotlib.lines.Line2D at 0x1209e3642b0>]"
      ]
     },
     "execution_count": 31,
     "metadata": {},
     "output_type": "execute_result"
    },
    {
     "data": {
      "image/png": "[encoded data removed]",
      "text/plain": [
       "<Figure size 432x288 with 1 Axes>"
      ]
     },
     "metadata": {
      "needs_background": "light"
     },
     "output_type": "display_data"
    }
   ],
   "source": [
    "\n",
    "plt.plot(poly_2data['power_1'],y1,'.',\n",
    "poly_2data['power_1'],poly_2model.predict(x1),'-')"
   ]
  },
  {
   "cell_type": "code",
   "execution_count": 32,
   "metadata": {},
   "outputs": [],
   "source": [
    "feature2=sales['sqft_living']\n",
    "poly_3data=polynomial_dataframe(feature2,3)\n",
    "poly_3data['price']=sales['price']\n"
   ]
  },
  {
   "cell_type": "code",
   "execution_count": 33,
   "metadata": {},
   "outputs": [],
   "source": [
    "poly_3data=pd.DataFrame(poly_3data)"
   ]
  },
  {
   "cell_type": "code",
   "execution_count": 34,
   "metadata": {},
   "outputs": [],
   "source": [
    "poly_3data=poly_3data.reset_index(drop=True)"
   ]
  },
  {
   "cell_type": "code",
   "execution_count": 35,
   "metadata": {},
   "outputs": [
    {
     "data": {
      "text/html": [
       "<div>\n",
       "<style scoped>\n",
       "    .dataframe tbody tr th:only-of-type {\n",
       "        vertical-align: middle;\n",
       "    }\n",
       "\n",
       "    .dataframe tbody tr th {\n",
       "        vertical-align: top;\n",
       "    }\n",
       "\n",
       "    .dataframe thead th {\n",
       "        text-align: right;\n",
       "    }\n",
       "</style>\n",
       "<table border=\"1\" class=\"dataframe\">\n",
       "  <thead>\n",
       "    <tr style=\"text-align: right;\">\n",
       "      <th></th>\n",
       "      <th>power_1</th>\n",
       "      <th>power_2</th>\n",
       "      <th>power_3</th>\n",
       "      <th>price</th>\n",
       "    </tr>\n",
       "  </thead>\n",
       "  <tbody>\n",
       "    <tr>\n",
       "      <th>0</th>\n",
       "      <td>290.0</td>\n",
       "      <td>84100.0</td>\n",
       "      <td>24389000.0</td>\n",
       "      <td>142000.0</td>\n",
       "    </tr>\n",
       "    <tr>\n",
       "      <th>1</th>\n",
       "      <td>370.0</td>\n",
       "      <td>136900.0</td>\n",
       "      <td>50653000.0</td>\n",
       "      <td>276000.0</td>\n",
       "    </tr>\n",
       "    <tr>\n",
       "      <th>2</th>\n",
       "      <td>380.0</td>\n",
       "      <td>144400.0</td>\n",
       "      <td>54872000.0</td>\n",
       "      <td>245000.0</td>\n",
       "    </tr>\n",
       "    <tr>\n",
       "      <th>3</th>\n",
       "      <td>384.0</td>\n",
       "      <td>147456.0</td>\n",
       "      <td>56623104.0</td>\n",
       "      <td>265000.0</td>\n",
       "    </tr>\n",
       "    <tr>\n",
       "      <th>4</th>\n",
       "      <td>390.0</td>\n",
       "      <td>152100.0</td>\n",
       "      <td>59319000.0</td>\n",
       "      <td>228000.0</td>\n",
       "    </tr>\n",
       "  </tbody>\n",
       "</table>\n",
       "</div>"
      ],
      "text/plain": [
       "   power_1   power_2     power_3     price\n",
       "0    290.0   84100.0  24389000.0  142000.0\n",
       "1    370.0  136900.0  50653000.0  276000.0\n",
       "2    380.0  144400.0  54872000.0  245000.0\n",
       "3    384.0  147456.0  56623104.0  265000.0\n",
       "4    390.0  152100.0  59319000.0  228000.0"
      ]
     },
     "execution_count": 35,
     "metadata": {},
     "output_type": "execute_result"
    }
   ],
   "source": [
    "poly_3data.head()"
   ]
  },
  {
   "cell_type": "code",
   "execution_count": 36,
   "metadata": {},
   "outputs": [],
   "source": [
    "x2=poly_3data.drop('price',axis=1)"
   ]
  },
  {
   "cell_type": "code",
   "execution_count": 37,
   "metadata": {},
   "outputs": [],
   "source": [
    "y2=poly_3data['price']"
   ]
  },
  {
   "cell_type": "code",
   "execution_count": 38,
   "metadata": {},
   "outputs": [],
   "source": [
    "poly_3model=lr.fit(x2,y2)"
   ]
  },
  {
   "cell_type": "code",
   "execution_count": 39,
   "metadata": {},
   "outputs": [
    {
     "data": {
      "text/plain": [
       "336819.74822074623"
      ]
     },
     "execution_count": 39,
     "metadata": {},
     "output_type": "execute_result"
    }
   ],
   "source": [
    "poly_3model.intercept_"
   ]
  },
  {
   "cell_type": "code",
   "execution_count": 40,
   "metadata": {},
   "outputs": [
    {
     "data": {
      "text/plain": [
       "array([-9.01819864e+01,  8.70465089e-02, -3.84055260e-06])"
      ]
     },
     "execution_count": 40,
     "metadata": {},
     "output_type": "execute_result"
    }
   ],
   "source": [
    "poly_3model.coef_"
   ]
  },
  {
   "cell_type": "code",
   "execution_count": 41,
   "metadata": {},
   "outputs": [
    {
     "data": {
      "text/plain": [
       "[<matplotlib.lines.Line2D at 0x1209e449e80>,\n",
       " <matplotlib.lines.Line2D at 0x1209e4642b0>]"
      ]
     },
     "execution_count": 41,
     "metadata": {},
     "output_type": "execute_result"
    },
    {
     "data": {
      "image/png": "[encoded data removed]",
      "text/plain": [
       "<Figure size 432x288 with 1 Axes>"
      ]
     },
     "metadata": {
      "needs_background": "light"
     },
     "output_type": "display_data"
    }
   ],
   "source": [
    "plt.plot(poly_3data['power_1'],y2,'.',\n",
    "        poly_3data['power_1'],poly_3model.predict(x2))"
   ]
  },
  {
   "cell_type": "code",
   "execution_count": 42,
   "metadata": {},
   "outputs": [],
   "source": [
    "poly_15data=polynomial_dataframe(sales['sqft_living'],15)"
   ]
  },
  {
   "cell_type": "code",
   "execution_count": 43,
   "metadata": {},
   "outputs": [],
   "source": [
    "poly_15data=poly_15data.reset_index(drop=True)"
   ]
  },
  {
   "cell_type": "code",
   "execution_count": 44,
   "metadata": {},
   "outputs": [
    {
     "data": {
      "text/html": [
       "<div>\n",
       "<style scoped>\n",
       "    .dataframe tbody tr th:only-of-type {\n",
       "        vertical-align: middle;\n",
       "    }\n",
       "\n",
       "    .dataframe tbody tr th {\n",
       "        vertical-align: top;\n",
       "    }\n",
       "\n",
       "    .dataframe thead th {\n",
       "        text-align: right;\n",
       "    }\n",
       "</style>\n",
       "<table border=\"1\" class=\"dataframe\">\n",
       "  <thead>\n",
       "    <tr style=\"text-align: right;\">\n",
       "      <th></th>\n",
       "      <th>power_1</th>\n",
       "      <th>power_2</th>\n",
       "      <th>power_3</th>\n",
       "      <th>power_4</th>\n",
       "      <th>power_5</th>\n",
       "      <th>power_6</th>\n",
       "      <th>power_7</th>\n",
       "      <th>power_8</th>\n",
       "      <th>power_9</th>\n",
       "      <th>power_10</th>\n",
       "      <th>power_11</th>\n",
       "      <th>power_12</th>\n",
       "      <th>power_13</th>\n",
       "      <th>power_14</th>\n",
       "      <th>power_15</th>\n",
       "    </tr>\n",
       "  </thead>\n",
       "  <tbody>\n",
       "    <tr>\n",
       "      <th>0</th>\n",
       "      <td>290.0</td>\n",
       "      <td>84100.0</td>\n",
       "      <td>24389000.0</td>\n",
       "      <td>7.072810e+09</td>\n",
       "      <td>2.051115e+12</td>\n",
       "      <td>5.948233e+14</td>\n",
       "      <td>1.724988e+17</td>\n",
       "      <td>5.002464e+19</td>\n",
       "      <td>1.450715e+22</td>\n",
       "      <td>4.207072e+24</td>\n",
       "      <td>1.220051e+27</td>\n",
       "      <td>3.538148e+29</td>\n",
       "      <td>1.026063e+32</td>\n",
       "      <td>2.975582e+34</td>\n",
       "      <td>8.629189e+36</td>\n",
       "    </tr>\n",
       "    <tr>\n",
       "      <th>1</th>\n",
       "      <td>370.0</td>\n",
       "      <td>136900.0</td>\n",
       "      <td>50653000.0</td>\n",
       "      <td>1.874161e+10</td>\n",
       "      <td>6.934396e+12</td>\n",
       "      <td>2.565726e+15</td>\n",
       "      <td>9.493188e+17</td>\n",
       "      <td>3.512479e+20</td>\n",
       "      <td>1.299617e+23</td>\n",
       "      <td>4.808584e+25</td>\n",
       "      <td>1.779176e+28</td>\n",
       "      <td>6.582952e+30</td>\n",
       "      <td>2.435692e+33</td>\n",
       "      <td>9.012061e+35</td>\n",
       "      <td>3.334463e+38</td>\n",
       "    </tr>\n",
       "    <tr>\n",
       "      <th>2</th>\n",
       "      <td>380.0</td>\n",
       "      <td>144400.0</td>\n",
       "      <td>54872000.0</td>\n",
       "      <td>2.085136e+10</td>\n",
       "      <td>7.923517e+12</td>\n",
       "      <td>3.010936e+15</td>\n",
       "      <td>1.144156e+18</td>\n",
       "      <td>4.347792e+20</td>\n",
       "      <td>1.652161e+23</td>\n",
       "      <td>6.278212e+25</td>\n",
       "      <td>2.385721e+28</td>\n",
       "      <td>9.065738e+30</td>\n",
       "      <td>3.444980e+33</td>\n",
       "      <td>1.309093e+36</td>\n",
       "      <td>4.974552e+38</td>\n",
       "    </tr>\n",
       "    <tr>\n",
       "      <th>3</th>\n",
       "      <td>384.0</td>\n",
       "      <td>147456.0</td>\n",
       "      <td>56623104.0</td>\n",
       "      <td>2.174327e+10</td>\n",
       "      <td>8.349416e+12</td>\n",
       "      <td>3.206176e+15</td>\n",
       "      <td>1.231172e+18</td>\n",
       "      <td>4.727699e+20</td>\n",
       "      <td>1.815436e+23</td>\n",
       "      <td>6.971275e+25</td>\n",
       "      <td>2.676970e+28</td>\n",
       "      <td>1.027956e+31</td>\n",
       "      <td>3.947353e+33</td>\n",
       "      <td>1.515783e+36</td>\n",
       "      <td>5.820608e+38</td>\n",
       "    </tr>\n",
       "    <tr>\n",
       "      <th>4</th>\n",
       "      <td>390.0</td>\n",
       "      <td>152100.0</td>\n",
       "      <td>59319000.0</td>\n",
       "      <td>2.313441e+10</td>\n",
       "      <td>9.022420e+12</td>\n",
       "      <td>3.518744e+15</td>\n",
       "      <td>1.372310e+18</td>\n",
       "      <td>5.352009e+20</td>\n",
       "      <td>2.087284e+23</td>\n",
       "      <td>8.140406e+25</td>\n",
       "      <td>3.174758e+28</td>\n",
       "      <td>1.238156e+31</td>\n",
       "      <td>4.828807e+33</td>\n",
       "      <td>1.883235e+36</td>\n",
       "      <td>7.344616e+38</td>\n",
       "    </tr>\n",
       "  </tbody>\n",
       "</table>\n",
       "</div>"
      ],
      "text/plain": [
       "   power_1   power_2     power_3       power_4       power_5       power_6  \\\n",
       "0    290.0   84100.0  24389000.0  7.072810e+09  2.051115e+12  5.948233e+14   \n",
       "1    370.0  136900.0  50653000.0  1.874161e+10  6.934396e+12  2.565726e+15   \n",
       "2    380.0  144400.0  54872000.0  2.085136e+10  7.923517e+12  3.010936e+15   \n",
       "3    384.0  147456.0  56623104.0  2.174327e+10  8.349416e+12  3.206176e+15   \n",
       "4    390.0  152100.0  59319000.0  2.313441e+10  9.022420e+12  3.518744e+15   \n",
       "\n",
       "        power_7       power_8       power_9      power_10      power_11  \\\n",
       "0  1.724988e+17  5.002464e+19  1.450715e+22  4.207072e+24  1.220051e+27   \n",
       "1  9.493188e+17  3.512479e+20  1.299617e+23  4.808584e+25  1.779176e+28   \n",
       "2  1.144156e+18  4.347792e+20  1.652161e+23  6.278212e+25  2.385721e+28   \n",
       "3  1.231172e+18  4.727699e+20  1.815436e+23  6.971275e+25  2.676970e+28   \n",
       "4  1.372310e+18  5.352009e+20  2.087284e+23  8.140406e+25  3.174758e+28   \n",
       "\n",
       "       power_12      power_13      power_14      power_15  \n",
       "0  3.538148e+29  1.026063e+32  2.975582e+34  8.629189e+36  \n",
       "1  6.582952e+30  2.435692e+33  9.012061e+35  3.334463e+38  \n",
       "2  9.065738e+30  3.444980e+33  1.309093e+36  4.974552e+38  \n",
       "3  1.027956e+31  3.947353e+33  1.515783e+36  5.820608e+38  \n",
       "4  1.238156e+31  4.828807e+33  1.883235e+36  7.344616e+38  "
      ]
     },
     "execution_count": 44,
     "metadata": {},
     "output_type": "execute_result"
    }
   ],
   "source": [
    "poly_15data.head()"
   ]
  },
  {
   "cell_type": "code",
   "execution_count": 45,
   "metadata": {},
   "outputs": [],
   "source": [
    "x3=poly_15data"
   ]
  },
  {
   "cell_type": "code",
   "execution_count": 46,
   "metadata": {},
   "outputs": [],
   "source": [
    "y3=sales['price']"
   ]
  },
  {
   "cell_type": "code",
   "execution_count": 53,
   "metadata": {},
   "outputs": [],
   "source": [
    "poly_15model=lr.fit(x3,y3)"
   ]
  },
  {
   "cell_type": "code",
   "execution_count": 54,
   "metadata": {},
   "outputs": [
    {
     "data": {
      "text/plain": [
       "537116.3296377126"
      ]
     },
     "execution_count": 54,
     "metadata": {},
     "output_type": "execute_result"
    }
   ],
   "source": [
    "poly_15model.intercept_"
   ]
  },
  {
   "cell_type": "code",
   "execution_count": 55,
   "metadata": {},
   "outputs": [
    {
     "data": {
      "text/plain": [
       "array([ 4.56404164e-91,  1.42712138e-50,  9.26132354e-56,  2.48920611e-60,\n",
       "        1.19863929e-74,  2.68575522e-71,  2.26147568e-67,  1.85900299e-63,\n",
       "        1.47144116e-59,  1.09771012e-55,  7.43509038e-52,  4.23015578e-48,\n",
       "        1.61618577e-44, -2.49283826e-48,  9.59718336e-53])"
      ]
     },
     "execution_count": 55,
     "metadata": {},
     "output_type": "execute_result"
    }
   ],
   "source": [
    "poly_15model.coef_"
   ]
  },
  {
   "cell_type": "code",
   "execution_count": 56,
   "metadata": {},
   "outputs": [
    {
     "data": {
      "text/plain": [
       "[<matplotlib.lines.Line2D at 0x1209f5090b8>,\n",
       " <matplotlib.lines.Line2D at 0x1209f509470>]"
      ]
     },
     "execution_count": 56,
     "metadata": {},
     "output_type": "execute_result"
    },
    {
     "data": {
      "image/png": "[encoded data removed]",
      "text/plain": [
       "<Figure size 432x288 with 1 Axes>"
      ]
     },
     "metadata": {
      "needs_background": "light"
     },
     "output_type": "display_data"
    }
   ],
   "source": [
    "plt.plot(poly_15data['power_1'],sales['price'],'.',\n",
    "        poly_15data['power_1'],poly_15model.predict(x3),'-')"
   ]
  },
  {
   "cell_type": "code",
   "execution_count": 57,
   "metadata": {},
   "outputs": [],
   "source": [
    "set1=pd.read_csv('wk3_kc_house_set_1_data.csv',dtype=dtype_dict)"
   ]
  },
  {
   "cell_type": "code",
   "execution_count": 58,
   "metadata": {
    "scrolled": true
   },
   "outputs": [],
   "source": [
    "set2=pd.read_csv('wk3_kc_house_set_2_data.csv',dtype=dtype_dict)"
   ]
  },
  {
   "cell_type": "code",
   "execution_count": 59,
   "metadata": {},
   "outputs": [],
   "source": [
    "set3=pd.read_csv('wk3_kc_house_set_3_data.csv',dtype=dtype_dict)"
   ]
  },
  {
   "cell_type": "code",
   "execution_count": 60,
   "metadata": {},
   "outputs": [],
   "source": [
    "set4=pd.read_csv('wk3_kc_house_set_4_data.csv',dtype=dtype_dict)"
   ]
  },
  {
   "cell_type": "code",
   "execution_count": 61,
   "metadata": {},
   "outputs": [],
   "source": [
    "polys1_15data=polynomial_dataframe(set1['sqft_living'],15)"
   ]
  },
  {
   "cell_type": "code",
   "execution_count": 62,
   "metadata": {},
   "outputs": [
    {
     "data": {
      "text/html": [
       "<div>\n",
       "<style scoped>\n",
       "    .dataframe tbody tr th:only-of-type {\n",
       "        vertical-align: middle;\n",
       "    }\n",
       "\n",
       "    .dataframe tbody tr th {\n",
       "        vertical-align: top;\n",
       "    }\n",
       "\n",
       "    .dataframe thead th {\n",
       "        text-align: right;\n",
       "    }\n",
       "</style>\n",
       "<table border=\"1\" class=\"dataframe\">\n",
       "  <thead>\n",
       "    <tr style=\"text-align: right;\">\n",
       "      <th></th>\n",
       "      <th>power_1</th>\n",
       "      <th>power_2</th>\n",
       "      <th>power_3</th>\n",
       "      <th>power_4</th>\n",
       "      <th>power_5</th>\n",
       "      <th>power_6</th>\n",
       "      <th>power_7</th>\n",
       "      <th>power_8</th>\n",
       "      <th>power_9</th>\n",
       "      <th>power_10</th>\n",
       "      <th>power_11</th>\n",
       "      <th>power_12</th>\n",
       "      <th>power_13</th>\n",
       "      <th>power_14</th>\n",
       "      <th>power_15</th>\n",
       "    </tr>\n",
       "  </thead>\n",
       "  <tbody>\n",
       "    <tr>\n",
       "      <th>0</th>\n",
       "      <td>430.0</td>\n",
       "      <td>184900.0</td>\n",
       "      <td>79507000.0</td>\n",
       "      <td>3.418801e+10</td>\n",
       "      <td>1.470084e+13</td>\n",
       "      <td>6.321363e+15</td>\n",
       "      <td>2.718186e+18</td>\n",
       "      <td>1.168820e+21</td>\n",
       "      <td>5.025926e+23</td>\n",
       "      <td>2.161148e+26</td>\n",
       "      <td>9.292937e+28</td>\n",
       "      <td>3.995963e+31</td>\n",
       "      <td>1.718264e+34</td>\n",
       "      <td>7.388536e+36</td>\n",
       "      <td>3.177070e+39</td>\n",
       "    </tr>\n",
       "    <tr>\n",
       "      <th>1</th>\n",
       "      <td>460.0</td>\n",
       "      <td>211600.0</td>\n",
       "      <td>97336000.0</td>\n",
       "      <td>4.477456e+10</td>\n",
       "      <td>2.059630e+13</td>\n",
       "      <td>9.474297e+15</td>\n",
       "      <td>4.358177e+18</td>\n",
       "      <td>2.004761e+21</td>\n",
       "      <td>9.221902e+23</td>\n",
       "      <td>4.242075e+26</td>\n",
       "      <td>1.951354e+29</td>\n",
       "      <td>8.976230e+31</td>\n",
       "      <td>4.129066e+34</td>\n",
       "      <td>1.899370e+37</td>\n",
       "      <td>8.737103e+39</td>\n",
       "    </tr>\n",
       "    <tr>\n",
       "      <th>2</th>\n",
       "      <td>470.0</td>\n",
       "      <td>220900.0</td>\n",
       "      <td>103823000.0</td>\n",
       "      <td>4.879681e+10</td>\n",
       "      <td>2.293450e+13</td>\n",
       "      <td>1.077922e+16</td>\n",
       "      <td>5.066231e+18</td>\n",
       "      <td>2.381129e+21</td>\n",
       "      <td>1.119130e+24</td>\n",
       "      <td>5.259913e+26</td>\n",
       "      <td>2.472159e+29</td>\n",
       "      <td>1.161915e+32</td>\n",
       "      <td>5.461000e+34</td>\n",
       "      <td>2.566670e+37</td>\n",
       "      <td>1.206335e+40</td>\n",
       "    </tr>\n",
       "    <tr>\n",
       "      <th>3</th>\n",
       "      <td>490.0</td>\n",
       "      <td>240100.0</td>\n",
       "      <td>117649000.0</td>\n",
       "      <td>5.764801e+10</td>\n",
       "      <td>2.824752e+13</td>\n",
       "      <td>1.384129e+16</td>\n",
       "      <td>6.782231e+18</td>\n",
       "      <td>3.323293e+21</td>\n",
       "      <td>1.628414e+24</td>\n",
       "      <td>7.979227e+26</td>\n",
       "      <td>3.909821e+29</td>\n",
       "      <td>1.915812e+32</td>\n",
       "      <td>9.387480e+34</td>\n",
       "      <td>4.599865e+37</td>\n",
       "      <td>2.253934e+40</td>\n",
       "    </tr>\n",
       "    <tr>\n",
       "      <th>4</th>\n",
       "      <td>500.0</td>\n",
       "      <td>250000.0</td>\n",
       "      <td>125000000.0</td>\n",
       "      <td>6.250000e+10</td>\n",
       "      <td>3.125000e+13</td>\n",
       "      <td>1.562500e+16</td>\n",
       "      <td>7.812500e+18</td>\n",
       "      <td>3.906250e+21</td>\n",
       "      <td>1.953125e+24</td>\n",
       "      <td>9.765625e+26</td>\n",
       "      <td>4.882812e+29</td>\n",
       "      <td>2.441406e+32</td>\n",
       "      <td>1.220703e+35</td>\n",
       "      <td>6.103516e+37</td>\n",
       "      <td>3.051758e+40</td>\n",
       "    </tr>\n",
       "  </tbody>\n",
       "</table>\n",
       "</div>"
      ],
      "text/plain": [
       "   power_1   power_2      power_3       power_4       power_5       power_6  \\\n",
       "0    430.0  184900.0   79507000.0  3.418801e+10  1.470084e+13  6.321363e+15   \n",
       "1    460.0  211600.0   97336000.0  4.477456e+10  2.059630e+13  9.474297e+15   \n",
       "2    470.0  220900.0  103823000.0  4.879681e+10  2.293450e+13  1.077922e+16   \n",
       "3    490.0  240100.0  117649000.0  5.764801e+10  2.824752e+13  1.384129e+16   \n",
       "4    500.0  250000.0  125000000.0  6.250000e+10  3.125000e+13  1.562500e+16   \n",
       "\n",
       "        power_7       power_8       power_9      power_10      power_11  \\\n",
       "0  2.718186e+18  1.168820e+21  5.025926e+23  2.161148e+26  9.292937e+28   \n",
       "1  4.358177e+18  2.004761e+21  9.221902e+23  4.242075e+26  1.951354e+29   \n",
       "2  5.066231e+18  2.381129e+21  1.119130e+24  5.259913e+26  2.472159e+29   \n",
       "3  6.782231e+18  3.323293e+21  1.628414e+24  7.979227e+26  3.909821e+29   \n",
       "4  7.812500e+18  3.906250e+21  1.953125e+24  9.765625e+26  4.882812e+29   \n",
       "\n",
       "       power_12      power_13      power_14      power_15  \n",
       "0  3.995963e+31  1.718264e+34  7.388536e+36  3.177070e+39  \n",
       "1  8.976230e+31  4.129066e+34  1.899370e+37  8.737103e+39  \n",
       "2  1.161915e+32  5.461000e+34  2.566670e+37  1.206335e+40  \n",
       "3  1.915812e+32  9.387480e+34  4.599865e+37  2.253934e+40  \n",
       "4  2.441406e+32  1.220703e+35  6.103516e+37  3.051758e+40  "
      ]
     },
     "execution_count": 62,
     "metadata": {},
     "output_type": "execute_result"
    }
   ],
   "source": [
    "polys1_15data.head()"
   ]
  },
  {
   "cell_type": "code",
   "execution_count": 63,
   "metadata": {},
   "outputs": [],
   "source": [
    "xs1=polys1_15data"
   ]
  },
  {
   "cell_type": "code",
   "execution_count": 64,
   "metadata": {},
   "outputs": [],
   "source": [
    "ys1=set1['price']"
   ]
  },
  {
   "cell_type": "code",
   "execution_count": 65,
   "metadata": {},
   "outputs": [],
   "source": [
    "models1_15=lr.fit(xs1,ys1)"
   ]
  },
  {
   "cell_type": "code",
   "execution_count": 66,
   "metadata": {},
   "outputs": [
    {
     "data": {
      "text/plain": [
       "539058.8186676395"
      ]
     },
     "execution_count": 66,
     "metadata": {},
     "output_type": "execute_result"
    }
   ],
   "source": [
    "models1_15.intercept_"
   ]
  },
  {
   "cell_type": "code",
   "execution_count": 67,
   "metadata": {},
   "outputs": [
    {
     "data": {
      "text/plain": [
       "array([ 3.05794168e-90,  2.21229726e-49,  8.63174848e-55,  1.21888906e-88,\n",
       "        3.23082736e-74,  1.10358333e-70,  8.37724029e-67,  6.23411957e-63,\n",
       "        4.49156442e-59,  3.06938763e-55,  1.91749300e-51,  1.01335180e-47,\n",
       "        3.62176959e-44, -5.63501661e-48,  2.18641116e-52])"
      ]
     },
     "execution_count": 67,
     "metadata": {},
     "output_type": "execute_result"
    }
   ],
   "source": [
    "models1_15.coef_"
   ]
  },
  {
   "cell_type": "code",
   "execution_count": 68,
   "metadata": {},
   "outputs": [
    {
     "data": {
      "text/plain": [
       "[<matplotlib.lines.Line2D at 0x1209e319358>,\n",
       " <matplotlib.lines.Line2D at 0x1209e319860>]"
      ]
     },
     "execution_count": 68,
     "metadata": {},
     "output_type": "execute_result"
    },
    {
     "data": {
      "image/png": "[encoded data removed]",
      "text/plain": [
       "<Figure size 432x288 with 1 Axes>"
      ]
     },
     "metadata": {
      "needs_background": "light"
     },
     "output_type": "display_data"
    }
   ],
   "source": [
    "plt.plot(xs1['power_1'],ys1,'.',\n",
    "xs1['power_1'],models1_15.predict(xs1),'-')\n"
   ]
  },
  {
   "cell_type": "code",
   "execution_count": 69,
   "metadata": {},
   "outputs": [],
   "source": [
    "polys2_15data=polynomial_dataframe(set2['sqft_living'],15)"
   ]
  },
  {
   "cell_type": "code",
   "execution_count": 70,
   "metadata": {},
   "outputs": [],
   "source": [
    "xs2=polys2_15data"
   ]
  },
  {
   "cell_type": "code",
   "execution_count": 71,
   "metadata": {},
   "outputs": [],
   "source": [
    "ys2=set2['price']"
   ]
  },
  {
   "cell_type": "code",
   "execution_count": 72,
   "metadata": {},
   "outputs": [],
   "source": [
    "models2_15=lr.fit(xs2,ys2)"
   ]
  },
  {
   "cell_type": "code",
   "execution_count": 73,
   "metadata": {},
   "outputs": [
    {
     "data": {
      "text/plain": [
       "array([ 2.68007789e-77, -1.28312242e-39, -1.64859266e-44, -7.97376861e-50,\n",
       "       -1.04404871e-53,  1.35479902e-58,  3.62867893e-55,  1.49807495e-51,\n",
       "        5.73974483e-48,  1.95158348e-44,  5.37897085e-41,  9.38035613e-38,\n",
       "       -3.62478343e-41,  4.63968401e-45, -1.96500735e-49])"
      ]
     },
     "execution_count": 73,
     "metadata": {},
     "output_type": "execute_result"
    }
   ],
   "source": [
    "models2_15.coef_"
   ]
  },
  {
   "cell_type": "code",
   "execution_count": 74,
   "metadata": {},
   "outputs": [
    {
     "data": {
      "text/plain": [
       "506822.2662653846"
      ]
     },
     "execution_count": 74,
     "metadata": {},
     "output_type": "execute_result"
    }
   ],
   "source": [
    "models2_15.intercept_"
   ]
  },
  {
   "cell_type": "code",
   "execution_count": 75,
   "metadata": {},
   "outputs": [
    {
     "data": {
      "text/plain": [
       "[<matplotlib.lines.Line2D at 0x1209f59d5c0>,\n",
       " <matplotlib.lines.Line2D at 0x1209f59d908>]"
      ]
     },
     "execution_count": 75,
     "metadata": {},
     "output_type": "execute_result"
    },
    {
     "data": {
      "image/png": "[encoded data removed]",
      "text/plain": [
       "<Figure size 432x288 with 1 Axes>"
      ]
     },
     "metadata": {
      "needs_background": "light"
     },
     "output_type": "display_data"
    }
   ],
   "source": [
    "plt.plot(xs2['power_1'],ys2,'.',\n",
    "xs2['power_1'],models2_15.predict(xs2),'-')\n"
   ]
  },
  {
   "cell_type": "code",
   "execution_count": 76,
   "metadata": {},
   "outputs": [],
   "source": [
    "polys3_15data=polynomial_dataframe(set3['sqft_living'],15)"
   ]
  },
  {
   "cell_type": "code",
   "execution_count": 77,
   "metadata": {},
   "outputs": [],
   "source": [
    "xs3=polys3_15data"
   ]
  },
  {
   "cell_type": "code",
   "execution_count": 78,
   "metadata": {},
   "outputs": [],
   "source": [
    "ys3=set3['price']"
   ]
  },
  {
   "cell_type": "code",
   "execution_count": 79,
   "metadata": {},
   "outputs": [],
   "source": [
    "models3_15=lr.fit(xs3,ys3)"
   ]
  },
  {
   "cell_type": "code",
   "execution_count": 80,
   "metadata": {},
   "outputs": [
    {
     "data": {
      "text/plain": [
       "array([ 2.83751934e-88,  1.17220379e-48,  1.95623597e-55,  3.22507962e-85,\n",
       "        1.57170169e-72,  4.27894908e-69,  2.68009626e-65,  1.63911362e-61,\n",
       "        9.66435015e-58,  5.38044653e-54,  2.72563636e-50,  1.16253248e-46,\n",
       "        3.33756141e-43, -6.76238818e-47,  3.43132932e-51])"
      ]
     },
     "execution_count": 80,
     "metadata": {},
     "output_type": "execute_result"
    }
   ],
   "source": [
    "models3_15.coef_"
   ]
  },
  {
   "cell_type": "code",
   "execution_count": 81,
   "metadata": {},
   "outputs": [
    {
     "data": {
      "text/plain": [
       "[<matplotlib.lines.Line2D at 0x1209f5fac18>,\n",
       " <matplotlib.lines.Line2D at 0x1209f5faf60>]"
      ]
     },
     "execution_count": 81,
     "metadata": {},
     "output_type": "execute_result"
    },
    {
     "data": {
      "image/png": "[encoded data removed]",
      "text/plain": [
       "<Figure size 432x288 with 1 Axes>"
      ]
     },
     "metadata": {
      "needs_background": "light"
     },
     "output_type": "display_data"
    }
   ],
   "source": [
    "plt.plot(xs3['power_1'],ys3,'.',\n",
    "xs3['power_1'],models3_15.predict(xs3),'-')\n"
   ]
  },
  {
   "cell_type": "code",
   "execution_count": 82,
   "metadata": {},
   "outputs": [],
   "source": [
    "polys4_15data=polynomial_dataframe(set4['sqft_living'],15)"
   ]
  },
  {
   "cell_type": "code",
   "execution_count": 83,
   "metadata": {},
   "outputs": [],
   "source": [
    "xs4=polys4_15data"
   ]
  },
  {
   "cell_type": "code",
   "execution_count": 84,
   "metadata": {},
   "outputs": [],
   "source": [
    "ys4=set4['price']"
   ]
  },
  {
   "cell_type": "code",
   "execution_count": 85,
   "metadata": {},
   "outputs": [],
   "source": [
    "models4_15=lr.fit(xs4,ys4)"
   ]
  },
  {
   "cell_type": "code",
   "execution_count": 86,
   "metadata": {},
   "outputs": [
    {
     "data": {
      "text/plain": [
       "[<matplotlib.lines.Line2D at 0x1209f66cda0>,\n",
       " <matplotlib.lines.Line2D at 0x1209f66ce80>]"
      ]
     },
     "execution_count": 86,
     "metadata": {},
     "output_type": "execute_result"
    },
    {
     "data": {
      "image/png": "[encoded data removed]",
      "text/plain": [
       "<Figure size 432x288 with 1 Axes>"
      ]
     },
     "metadata": {
      "needs_background": "light"
     },
     "output_type": "display_data"
    }
   ],
   "source": [
    "plt.plot(xs4['power_1'],ys4,'.',\n",
    "xs4['power_1'],models4_15.predict(xs4),'-')\n"
   ]
  },
  {
   "cell_type": "code",
   "execution_count": 87,
   "metadata": {},
   "outputs": [
    {
     "data": {
      "text/plain": [
       "array([ 1.37128602e-76, -4.21253685e-39,  2.99860811e-44,  2.82576230e-49,\n",
       "        2.58496378e-70,  5.32307790e-58,  1.27061370e-54,  4.87824481e-51,\n",
       "        1.73529592e-47,  5.46986993e-44,  1.39567135e-40,  2.25005678e-37,\n",
       "       -9.43802337e-41,  1.31552211e-44, -6.09068656e-49])"
      ]
     },
     "execution_count": 87,
     "metadata": {},
     "output_type": "execute_result"
    }
   ],
   "source": [
    "models4_15.coef_"
   ]
  },
  {
   "cell_type": "code",
   "execution_count": 88,
   "metadata": {},
   "outputs": [],
   "source": [
    "train_data=pd.read_csv('wk3_kc_house_train_data.csv',dtype=dtype_dict)"
   ]
  },
  {
   "cell_type": "code",
   "execution_count": 89,
   "metadata": {},
   "outputs": [],
   "source": [
    "test_data=pd.read_csv('wk3_kc_house_test_data.csv',dtype=dtype_dict)"
   ]
  },
  {
   "cell_type": "code",
   "execution_count": 90,
   "metadata": {},
   "outputs": [],
   "source": [
    "valid_data=pd.read_csv('wk3_kc_house_valid_data.csv',dtype=dtype_dict)"
   ]
  },
  {
   "cell_type": "code",
   "execution_count": 96,
   "metadata": {},
   "outputs": [],
   "source": [
    "polyt_1data=polynomial_dataframe(train_data['sqft_living'],1)"
   ]
  },
  {
   "cell_type": "code",
   "execution_count": 97,
   "metadata": {},
   "outputs": [],
   "source": [
    "xt1=polyt_1data"
   ]
  },
  {
   "cell_type": "code",
   "execution_count": 98,
   "metadata": {},
   "outputs": [],
   "source": [
    "yt1=train_data['price']"
   ]
  },
  {
   "cell_type": "code",
   "execution_count": 99,
   "metadata": {},
   "outputs": [],
   "source": [
    "modelt_1=lr.fit(xt1,yt1)"
   ]
  },
  {
   "cell_type": "code",
   "execution_count": 100,
   "metadata": {},
   "outputs": [
    {
     "data": {
      "text/plain": [
       "array([288.59846375])"
      ]
     },
     "execution_count": 100,
     "metadata": {},
     "output_type": "execute_result"
    }
   ],
   "source": [
    "modelt_1.coef_"
   ]
  },
  {
   "cell_type": "code",
   "execution_count": 101,
   "metadata": {},
   "outputs": [
    {
     "data": {
      "text/plain": [
       "-59493.31716521003"
      ]
     },
     "execution_count": 101,
     "metadata": {},
     "output_type": "execute_result"
    }
   ],
   "source": [
    "modelt_1.intercept_"
   ]
  },
  {
   "cell_type": "code",
   "execution_count": 102,
   "metadata": {},
   "outputs": [
    {
     "data": {
      "text/plain": [
       "[<matplotlib.lines.Line2D at 0x1209f845128>,\n",
       " <matplotlib.lines.Line2D at 0x1209f845208>]"
      ]
     },
     "execution_count": 102,
     "metadata": {},
     "output_type": "execute_result"
    },
    {
     "data": {
      "image/png": "[encoded data removed]",
      "text/plain": [
       "<Figure size 432x288 with 1 Axes>"
      ]
     },
     "metadata": {
      "needs_background": "light"
     },
     "output_type": "display_data"
    }
   ],
   "source": [
    "plt.plot(xt1,yt1,'.',\n",
    "        xt1,modelt_1.predict(xt1),'-')"
   ]
  },
  {
   "cell_type": "code",
   "execution_count": 110,
   "metadata": {},
   "outputs": [],
   "source": [
    "x_valid=valid_data['sqft_living']\n",
    "x_valid=np.array(x_valid).reshape(-1,1)"
   ]
  },
  {
   "cell_type": "code",
   "execution_count": 111,
   "metadata": {},
   "outputs": [],
   "source": [
    "y_vpredict=modelt_1.predict(x_valid)"
   ]
  },
  {
   "cell_type": "code",
   "execution_count": 113,
   "metadata": {},
   "outputs": [
    {
     "data": {
      "text/plain": [
       "array([281052.87005572, 682204.73466343, 162727.49991964, ...,\n",
       "       382062.33236702, 607169.13408933, 402264.22482928])"
      ]
     },
     "execution_count": 113,
     "metadata": {},
     "output_type": "execute_result"
    }
   ],
   "source": [
    "y_vpredict"
   ]
  },
  {
   "cell_type": "code",
   "execution_count": 114,
   "metadata": {},
   "outputs": [],
   "source": [
    "RSS1=np.sum(valid_data['price']-y_vpredict)**2"
   ]
  },
  {
   "cell_type": "code",
   "execution_count": 115,
   "metadata": {},
   "outputs": [
    {
     "data": {
      "text/plain": [
       "196278119885786.78"
      ]
     },
     "execution_count": 115,
     "metadata": {},
     "output_type": "execute_result"
    }
   ],
   "source": [
    "RSS1"
   ]
  },
  {
   "cell_type": "code",
   "execution_count": 116,
   "metadata": {},
   "outputs": [],
   "source": [
    "polyt_2data=polynomial_dataframe(train_data['sqft_living'],2)"
   ]
  },
  {
   "cell_type": "code",
   "execution_count": 117,
   "metadata": {},
   "outputs": [],
   "source": [
    "modelt_2=lr.fit(polyt_2data,yt1)"
   ]
  },
  {
   "cell_type": "code",
   "execution_count": 118,
   "metadata": {},
   "outputs": [
    {
     "data": {
      "text/plain": [
       "array([1.22673842, 0.0522949 ])"
      ]
     },
     "execution_count": 118,
     "metadata": {},
     "output_type": "execute_result"
    }
   ],
   "source": [
    "modelt_2.coef_"
   ]
  },
  {
   "cell_type": "code",
   "execution_count": 119,
   "metadata": {},
   "outputs": [
    {
     "data": {
      "text/plain": [
       "267506.2801322418"
      ]
     },
     "execution_count": 119,
     "metadata": {},
     "output_type": "execute_result"
    }
   ],
   "source": [
    "modelt_2.intercept_"
   ]
  },
  {
   "cell_type": "code",
   "execution_count": 121,
   "metadata": {},
   "outputs": [],
   "source": [
    "x_valid2=polynomial_dataframe(valid_data['sqft_living'],2)"
   ]
  },
  {
   "cell_type": "code",
   "execution_count": 122,
   "metadata": {},
   "outputs": [],
   "source": [
    "y_v2predict=modelt_2.predict(x_valid2)"
   ]
  },
  {
   "cell_type": "code",
   "execution_count": 123,
   "metadata": {},
   "outputs": [
    {
     "data": {
      "text/plain": [
       "array([341769.25477026, 616061.60443274, 299456.51685951, ...,\n",
       "       391800.32896214, 549390.87918327, 403344.01395646])"
      ]
     },
     "execution_count": 123,
     "metadata": {},
     "output_type": "execute_result"
    }
   ],
   "source": [
    "y_v2predict"
   ]
  },
  {
   "cell_type": "code",
   "execution_count": 124,
   "metadata": {},
   "outputs": [],
   "source": [
    "RSS2=np.sum(valid_data['price']-y_v2predict)**2"
   ]
  },
  {
   "cell_type": "code",
   "execution_count": 125,
   "metadata": {},
   "outputs": [
    {
     "data": {
      "text/plain": [
       "108514027231632.23"
      ]
     },
     "execution_count": 125,
     "metadata": {},
     "output_type": "execute_result"
    }
   ],
   "source": [
    "RSS2"
   ]
  },
  {
   "cell_type": "code",
   "execution_count": 126,
   "metadata": {},
   "outputs": [],
   "source": [
    "polyt_3data=polynomial_dataframe(train_data['sqft_living'],3)"
   ]
  },
  {
   "cell_type": "code",
   "execution_count": 127,
   "metadata": {},
   "outputs": [],
   "source": [
    "modelt_3=lr.fit(polyt_3data,yt1)"
   ]
  },
  {
   "cell_type": "code",
   "execution_count": 129,
   "metadata": {},
   "outputs": [
    {
     "data": {
      "text/plain": [
       "array([7.50292074e+00, 5.03063603e-02, 1.67090667e-07])"
      ]
     },
     "execution_count": 129,
     "metadata": {},
     "output_type": "execute_result"
    }
   ],
   "source": [
    "modelt_3.coef_"
   ]
  },
  {
   "cell_type": "code",
   "execution_count": 131,
   "metadata": {},
   "outputs": [
    {
     "data": {
      "text/plain": [
       "262170.6483399361"
      ]
     },
     "execution_count": 131,
     "metadata": {},
     "output_type": "execute_result"
    }
   ],
   "source": [
    "modelt_3.intercept_"
   ]
  },
  {
   "cell_type": "code",
   "execution_count": 132,
   "metadata": {},
   "outputs": [],
   "source": [
    "x_valid3=polynomial_dataframe(valid_data['sqft_living'],3)"
   ]
  },
  {
   "cell_type": "code",
   "execution_count": 133,
   "metadata": {},
   "outputs": [
    {
     "data": {
      "text/plain": [
       "array([341345.20619605, 616557.9298174 , 297850.82072875, ...,\n",
       "       392010.72397132, 550001.78930903, 403644.00724589])"
      ]
     },
     "execution_count": 133,
     "metadata": {},
     "output_type": "execute_result"
    }
   ],
   "source": [
    "y_v3predict=modelt_3.predict(x_valid3)\n",
    "y_v3predict"
   ]
  },
  {
   "cell_type": "code",
   "execution_count": 134,
   "metadata": {},
   "outputs": [
    {
     "data": {
      "text/plain": [
       "113357143332640.97"
      ]
     },
     "execution_count": 134,
     "metadata": {},
     "output_type": "execute_result"
    }
   ],
   "source": [
    "RSS3=np.sum(valid_data['price']-y_v3predict)**2\n",
    "RSS3"
   ]
  },
  {
   "cell_type": "code",
   "execution_count": 135,
   "metadata": {},
   "outputs": [],
   "source": [
    "polyt_4data=polynomial_dataframe(train_data['sqft_living'],4)"
   ]
  },
  {
   "cell_type": "code",
   "execution_count": 136,
   "metadata": {},
   "outputs": [
    {
     "data": {
      "text/plain": [
       "array([-1.53852740e+01,  6.08970914e-02, -1.61496586e-06,  9.11725279e-11])"
      ]
     },
     "execution_count": 136,
     "metadata": {},
     "output_type": "execute_result"
    }
   ],
   "source": [
    "modelt_4=lr.fit(polyt_4data,yt1)\n",
    "modelt_4.coef_"
   ]
  },
  {
   "cell_type": "code",
   "execution_count": 138,
   "metadata": {},
   "outputs": [
    {
     "data": {
      "text/plain": [
       "277368.46421171306"
      ]
     },
     "execution_count": 138,
     "metadata": {},
     "output_type": "execute_result"
    }
   ],
   "source": [
    "modelt_4.intercept_"
   ]
  },
  {
   "cell_type": "code",
   "execution_count": 139,
   "metadata": {},
   "outputs": [],
   "source": [
    "x_valid4=polynomial_dataframe(valid_data['sqft_living'],4)"
   ]
  },
  {
   "cell_type": "code",
   "execution_count": 140,
   "metadata": {},
   "outputs": [
    {
     "data": {
      "text/plain": [
       "array([341530.27358637, 616611.49519955, 300922.45340032, ...,\n",
       "       391098.47997816, 549470.79310339, 402631.18782831])"
      ]
     },
     "execution_count": 140,
     "metadata": {},
     "output_type": "execute_result"
    }
   ],
   "source": [
    "y_v4predict=modelt_4.predict(x_valid4)\n",
    "y_v4predict"
   ]
  },
  {
   "cell_type": "code",
   "execution_count": 141,
   "metadata": {},
   "outputs": [
    {
     "data": {
      "text/plain": [
       "114920874037156.8"
      ]
     },
     "execution_count": 141,
     "metadata": {},
     "output_type": "execute_result"
    }
   ],
   "source": [
    "RSS4=np.sum(valid_data['price']-y_v4predict)**2\n",
    "RSS4"
   ]
  },
  {
   "cell_type": "code",
   "execution_count": 142,
   "metadata": {},
   "outputs": [],
   "source": [
    "polyt_5data=polynomial_dataframe(train_data['sqft_living'],5)"
   ]
  },
  {
   "cell_type": "code",
   "execution_count": 143,
   "metadata": {},
   "outputs": [
    {
     "data": {
      "text/plain": [
       "array([ 3.20207736e-05,  5.44917945e-02, -6.59421425e-07,  5.05182509e-11,\n",
       "       -3.19189120e-16])"
      ]
     },
     "execution_count": 143,
     "metadata": {},
     "output_type": "execute_result"
    }
   ],
   "source": [
    "modelt_5=lr.fit(polyt_5data,yt1)\n",
    "modelt_5.coef_"
   ]
  },
  {
   "cell_type": "code",
   "execution_count": 144,
   "metadata": {},
   "outputs": [],
   "source": [
    "x_valid5=polynomial_dataframe(valid_data['sqft_living'],5)"
   ]
  },
  {
   "cell_type": "code",
   "execution_count": 145,
   "metadata": {},
   "outputs": [
    {
     "data": {
      "text/plain": [
       "array([341016.05491641, 617015.46252304, 298152.71384588, ...,\n",
       "       391600.15607203, 550190.79187187, 403253.66396057])"
      ]
     },
     "execution_count": 145,
     "metadata": {},
     "output_type": "execute_result"
    }
   ],
   "source": [
    "y_v5predict=modelt_5.predict(x_valid5)\n",
    "y_v5predict"
   ]
  },
  {
   "cell_type": "code",
   "execution_count": 146,
   "metadata": {},
   "outputs": [
    {
     "data": {
      "text/plain": [
       "116159871717107.28"
      ]
     },
     "execution_count": 146,
     "metadata": {},
     "output_type": "execute_result"
    }
   ],
   "source": [
    "RSS5=np.sum(valid_data['price']-y_v5predict)**2\n",
    "RSS5"
   ]
  },
  {
   "cell_type": "code",
   "execution_count": 159,
   "metadata": {},
   "outputs": [],
   "source": [
    "def poly_df(degree):\n",
    "        poly_data=polynomial_dataframe(train_data['sqft_living'],degree)\n",
    "        model=lr.fit(poly_data,yt1)\n",
    "        x_valid=polynomial_dataframe(valid_data['sqft_living'],degree)\n",
    "        y_predict=model.predict(x_valid)\n",
    "        name='RSS'+str(degree)\n",
    "        name=np.sum(valid_data['price']-y_predict)**2\n",
    "        print(name)"
   ]
  },
  {
   "cell_type": "code",
   "execution_count": 161,
   "metadata": {},
   "outputs": [
    {
     "name": "stdout",
     "output_type": "stream",
     "text": [
      "196278119885786.78\n"
     ]
    }
   ],
   "source": [
    "poly_df(1)"
   ]
  },
  {
   "cell_type": "code",
   "execution_count": 162,
   "metadata": {},
   "outputs": [
    {
     "name": "stdout",
     "output_type": "stream",
     "text": [
      "108514027231632.23\n"
     ]
    }
   ],
   "source": [
    "poly_df(2)"
   ]
  },
  {
   "cell_type": "code",
   "execution_count": 163,
   "metadata": {},
   "outputs": [
    {
     "name": "stdout",
     "output_type": "stream",
     "text": [
      "113357143332640.97\n"
     ]
    }
   ],
   "source": [
    "poly_df(3)"
   ]
  },
  {
   "cell_type": "code",
   "execution_count": 164,
   "metadata": {},
   "outputs": [
    {
     "name": "stdout",
     "output_type": "stream",
     "text": [
      "114920874037156.8\n"
     ]
    }
   ],
   "source": [
    "poly_df(4)"
   ]
  },
  {
   "cell_type": "code",
   "execution_count": 165,
   "metadata": {},
   "outputs": [
    {
     "name": "stdout",
     "output_type": "stream",
     "text": [
      "116159871717107.28\n"
     ]
    }
   ],
   "source": [
    "poly_df(5)"
   ]
  },
  {
   "cell_type": "code",
   "execution_count": 166,
   "metadata": {},
   "outputs": [
    {
     "name": "stdout",
     "output_type": "stream",
     "text": [
      "30805262375584.79\n"
     ]
    }
   ],
   "source": [
    "poly_df(6)"
   ]
  },
  {
   "cell_type": "code",
   "execution_count": 167,
   "metadata": {},
   "outputs": [
    {
     "name": "stdout",
     "output_type": "stream",
     "text": [
      "307396492836201.9\n"
     ]
    }
   ],
   "source": [
    "poly_df(7)"
   ]
  },
  {
   "cell_type": "code",
   "execution_count": 168,
   "metadata": {},
   "outputs": [
    {
     "name": "stdout",
     "output_type": "stream",
     "text": [
      "5783432440375099.0\n"
     ]
    }
   ],
   "source": [
    "poly_df(8)"
   ]
  },
  {
   "cell_type": "code",
   "execution_count": 169,
   "metadata": {},
   "outputs": [
    {
     "name": "stdout",
     "output_type": "stream",
     "text": [
      "4.303180590233567e+16\n"
     ]
    }
   ],
   "source": [
    "poly_df(9)"
   ]
  },
  {
   "cell_type": "code",
   "execution_count": 170,
   "metadata": {},
   "outputs": [
    {
     "name": "stdout",
     "output_type": "stream",
     "text": [
      "2.4259517679328822e+17\n"
     ]
    }
   ],
   "source": [
    "poly_df(10)"
   ]
  },
  {
   "cell_type": "code",
   "execution_count": 171,
   "metadata": {},
   "outputs": [
    {
     "name": "stdout",
     "output_type": "stream",
     "text": [
      "1.1820473529025708e+18\n"
     ]
    }
   ],
   "source": [
    "poly_df(11)"
   ]
  },
  {
   "cell_type": "code",
   "execution_count": 172,
   "metadata": {},
   "outputs": [
    {
     "name": "stdout",
     "output_type": "stream",
     "text": [
      "5.199784470987607e+18\n"
     ]
    }
   ],
   "source": [
    "poly_df(12)"
   ]
  },
  {
   "cell_type": "code",
   "execution_count": 173,
   "metadata": {},
   "outputs": [
    {
     "name": "stdout",
     "output_type": "stream",
     "text": [
      "8.424381468663973e+17\n"
     ]
    }
   ],
   "source": [
    "poly_df(13)"
   ]
  },
  {
   "cell_type": "code",
   "execution_count": 174,
   "metadata": {},
   "outputs": [
    {
     "name": "stdout",
     "output_type": "stream",
     "text": [
      "2.4494823049858207e+18\n"
     ]
    }
   ],
   "source": [
    "poly_df(14)"
   ]
  },
  {
   "cell_type": "code",
   "execution_count": 175,
   "metadata": {},
   "outputs": [
    {
     "name": "stdout",
     "output_type": "stream",
     "text": [
      "7.236337444368605e+18\n"
     ]
    }
   ],
   "source": [
    "poly_df(15)"
   ]
  },
  {
   "cell_type": "code",
   "execution_count": null,
   "metadata": {},
   "outputs": [],
   "source": []
  }
 ],
 "metadata": {
  "kernelspec": {
   "display_name": "Python 3",
   "language": "python",
   "name": "python3"
  },
  "language_info": {
   "codemirror_mode": {
    "name": "ipython",
    "version": 3
   },
   "file_extension": ".py",
   "mimetype": "text/x-python",
   "name": "python",
   "nbconvert_exporter": "python",
   "pygments_lexer": "ipython3",
   "version": "3.6.8"
  }
 },
 "nbformat": 4,
 "nbformat_minor": 2
}
